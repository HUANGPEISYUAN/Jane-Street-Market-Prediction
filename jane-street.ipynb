{
 "cells": [
  {
   "cell_type": "code",
   "execution_count": 1,
   "metadata": {
    "_cell_guid": "b1076dfc-b9ad-4769-8c92-a6c4dae69d19",
    "_uuid": "8f2839f25d086af736a60e9eeb907d3b93b6e0e5",
    "execution": {
     "iopub.execute_input": "2021-01-03T19:31:14.936303Z",
     "iopub.status.busy": "2021-01-03T19:31:14.935370Z",
     "iopub.status.idle": "2021-01-03T19:31:14.945847Z",
     "shell.execute_reply": "2021-01-03T19:31:14.945122Z"
    },
    "papermill": {
     "duration": 0.028332,
     "end_time": "2021-01-03T19:31:14.945962",
     "exception": false,
     "start_time": "2021-01-03T19:31:14.917630",
     "status": "completed"
    },
    "tags": []
   },
   "outputs": [
    {
     "name": "stdout",
     "output_type": "stream",
     "text": [
      "/kaggle/input/jane-street-market-prediction/example_sample_submission.csv\n",
      "/kaggle/input/jane-street-market-prediction/features.csv\n",
      "/kaggle/input/jane-street-market-prediction/example_test.csv\n",
      "/kaggle/input/jane-street-market-prediction/train.csv\n",
      "/kaggle/input/jane-street-market-prediction/janestreet/competition.cpython-37m-x86_64-linux-gnu.so\n",
      "/kaggle/input/jane-street-market-prediction/janestreet/__init__.py\n"
     ]
    }
   ],
   "source": [
    "# This Python 3 environment comes with many helpful analytics libraries installed\n",
    "# It is defined by the kaggle/python Docker image: https://github.com/kaggle/docker-python\n",
    "# For example, here's several helpful packages to load\n",
    "\n",
    "import numpy as np # linear algebra\n",
    "import pandas as pd # data processing, CSV file I/O (e.g. pd.read_csv)\n",
    "\n",
    "# Input data files are available in the read-only \"../input/\" directory\n",
    "# For example, running this (by clicking run or pressing Shift+Enter) will list all files under the input directory\n",
    "\n",
    "import os\n",
    "for dirname, _, filenames in os.walk('/kaggle/input'):\n",
    "    for filename in filenames:\n",
    "        print(os.path.join(dirname, filename))\n",
    "\n",
    "# You can write up to 20GB to the current directory (/kaggle/working/) that gets preserved as output when you create a version using \"Save & Run All\" \n",
    "# You can also write temporary files to /kaggle/temp/, but they won't be saved outside of the current session"
   ]
  },
  {
   "cell_type": "code",
   "execution_count": 2,
   "metadata": {
    "execution": {
     "iopub.execute_input": "2021-01-03T19:31:14.974516Z",
     "iopub.status.busy": "2021-01-03T19:31:14.972882Z",
     "iopub.status.idle": "2021-01-03T19:31:55.166557Z",
     "shell.execute_reply": "2021-01-03T19:31:55.165972Z"
    },
    "papermill": {
     "duration": 40.210366,
     "end_time": "2021-01-03T19:31:55.166672",
     "exception": false,
     "start_time": "2021-01-03T19:31:14.956306",
     "status": "completed"
    },
    "tags": []
   },
   "outputs": [
    {
     "data": {
      "text/html": [
       "<style type='text/css'>\n",
       ".datatable table.frame { margin-bottom: 0; }\n",
       ".datatable table.frame thead { border-bottom: none; }\n",
       ".datatable table.frame tr.coltypes td {  color: #FFFFFF;  line-height: 6px;  padding: 0 0.5em;}\n",
       ".datatable .bool    { background: #DDDD99; }\n",
       ".datatable .object  { background: #565656; }\n",
       ".datatable .int     { background: #5D9E5D; }\n",
       ".datatable .float   { background: #4040CC; }\n",
       ".datatable .str     { background: #CC4040; }\n",
       ".datatable .row_index {  background: var(--jp-border-color3);  border-right: 1px solid var(--jp-border-color0);  color: var(--jp-ui-font-color3);  font-size: 9px;}\n",
       ".datatable .frame tr.coltypes .row_index {  background: var(--jp-border-color0);}\n",
       ".datatable th:nth-child(2) { padding-left: 12px; }\n",
       ".datatable .hellipsis {  color: var(--jp-cell-editor-border-color);}\n",
       ".datatable .vellipsis {  background: var(--jp-layout-color0);  color: var(--jp-cell-editor-border-color);}\n",
       ".datatable .na {  color: var(--jp-cell-editor-border-color);  font-size: 80%;}\n",
       ".datatable .footer { font-size: 9px; }\n",
       ".datatable .frame_dimensions {  background: var(--jp-border-color3);  border-top: 1px solid var(--jp-border-color0);  color: var(--jp-ui-font-color3);  display: inline-block;  opacity: 0.6;  padding: 1px 10px 1px 5px;}\n",
       "</style>\n"
      ],
      "text/plain": [
       "<IPython.core.display.HTML object>"
      ]
     },
     "metadata": {},
     "output_type": "display_data"
    }
   ],
   "source": [
    "import lightgbm as lgb\n",
    "import numpy as np\n",
    "import pandas as pd\n",
    "import os\n",
    "import datatable\n",
    "from sklearn.model_selection import train_test_split as sk_train_test_split\n",
    "\n",
    "\n",
    "path = '/kaggle/input/jane-street-market-prediction'\n",
    "\n",
    "train = datatable.fread(os.path.join(path,\"train.csv\")).to_pandas()\n",
    "test = datatable.fread(os.path.join(path,\"example_test.csv\")).to_pandas()\n",
    "submission = pd.read_csv(os.path.join(path,'example_sample_submission.csv'))\n",
    "\n",
    "train = train.astype({c_type: np.float32 for c_type in train.select_dtypes(include='float64').columns})"
   ]
  },
  {
   "cell_type": "code",
   "execution_count": 3,
   "metadata": {
    "execution": {
     "iopub.execute_input": "2021-01-03T19:31:55.193380Z",
     "iopub.status.busy": "2021-01-03T19:31:55.192519Z",
     "iopub.status.idle": "2021-01-03T19:31:56.834452Z",
     "shell.execute_reply": "2021-01-03T19:31:56.833249Z"
    },
    "papermill": {
     "duration": 1.658809,
     "end_time": "2021-01-03T19:31:56.834684",
     "exception": false,
     "start_time": "2021-01-03T19:31:55.175875",
     "status": "completed"
    },
    "tags": []
   },
   "outputs": [],
   "source": [
    "features = [f for f in train.columns if not f.find('feature')]\n",
    "train['action']=(train['resp']>0)*1\n",
    "train.head()\n",
    "train = train.fillna(train.mean())\n",
    "train = train[train['weight']!=0]"
   ]
  },
  {
   "cell_type": "code",
   "execution_count": 4,
   "metadata": {
    "execution": {
     "iopub.execute_input": "2021-01-03T19:31:57.156133Z",
     "iopub.status.busy": "2021-01-03T19:31:57.154314Z",
     "iopub.status.idle": "2021-01-03T19:31:58.938276Z",
     "shell.execute_reply": "2021-01-03T19:31:58.937539Z"
    },
    "papermill": {
     "duration": 2.090378,
     "end_time": "2021-01-03T19:31:58.938415",
     "exception": false,
     "start_time": "2021-01-03T19:31:56.848037",
     "status": "completed"
    },
    "tags": []
   },
   "outputs": [],
   "source": [
    "train_x, val_test_x, train_y, val_test_y = sk_train_test_split(train[features+['date']],train.action,test_size=0.33, random_state=42)"
   ]
  },
  {
   "cell_type": "code",
   "execution_count": 5,
   "metadata": {
    "execution": {
     "iopub.execute_input": "2021-01-03T19:31:58.972741Z",
     "iopub.status.busy": "2021-01-03T19:31:58.971646Z",
     "iopub.status.idle": "2021-01-03T19:31:58.975816Z",
     "shell.execute_reply": "2021-01-03T19:31:58.975049Z"
    },
    "papermill": {
     "duration": 0.02389,
     "end_time": "2021-01-03T19:31:58.975947",
     "exception": false,
     "start_time": "2021-01-03T19:31:58.952057",
     "status": "completed"
    },
    "tags": []
   },
   "outputs": [],
   "source": [
    "lgb_train = lgb.Dataset(train_x,label=train_y)\n",
    "val_lgb_test = lgb.Dataset(val_test_x,label=val_test_y)"
   ]
  },
  {
   "cell_type": "code",
   "execution_count": 6,
   "metadata": {
    "_kg_hide-output": false,
    "execution": {
     "iopub.execute_input": "2021-01-03T19:31:59.013800Z",
     "iopub.status.busy": "2021-01-03T19:31:59.012315Z",
     "iopub.status.idle": "2021-01-03T19:36:15.224965Z",
     "shell.execute_reply": "2021-01-03T19:36:15.225823Z"
    },
    "papermill": {
     "duration": 256.23637,
     "end_time": "2021-01-03T19:36:15.226020",
     "exception": false,
     "start_time": "2021-01-03T19:31:58.989650",
     "status": "completed"
    },
    "tags": []
   },
   "outputs": [
    {
     "name": "stdout",
     "output_type": "stream",
     "text": [
      "Training until validation scores don't improve for 10 rounds\n",
      "[50]\ttrain's auc: 0.661515\tvalid's auc: 0.622928\n",
      "[100]\ttrain's auc: 0.713792\tvalid's auc: 0.642054\n",
      "[150]\ttrain's auc: 0.752157\tvalid's auc: 0.659288\n",
      "[200]\ttrain's auc: 0.783253\tvalid's auc: 0.669581\n",
      "[250]\ttrain's auc: 0.807727\tvalid's auc: 0.676958\n",
      "[300]\ttrain's auc: 0.829409\tvalid's auc: 0.682657\n",
      "[350]\ttrain's auc: 0.846862\tvalid's auc: 0.6853\n",
      "Early stopping, best iteration is:\n",
      "[340]\ttrain's auc: 0.84357\tvalid's auc: 0.685467\n"
     ]
    }
   ],
   "source": [
    "parameters = {\n",
    "    'objective': 'binary',\n",
    "    'metric': 'auc',\n",
    "    'verbosity': 0,\n",
    "    'boosting_type': 'gbdt',\n",
    "    'lambda_l1': 0.17609455161492504,\n",
    "    'lambda_l2': 0.5037981573325253,\n",
    "    'num_leaves': 248,\n",
    "    'feature_fraction': 0.5622921223059042,\n",
    "    'bagging_fraction': 0.870103740422135,\n",
    "    'bagging_freq': 7,\n",
    "    'min_child_samples': 5\n",
    "    \n",
    "}\n",
    "model = lgb.train(\n",
    "    parameters, lgb_train, valid_sets=[lgb_train,val_lgb_test],valid_names = ['train', 'valid'],\n",
    "    num_boost_round= 10000,\n",
    "    verbose_eval= 50,\n",
    "    early_stopping_rounds= 10\n",
    ")"
   ]
  },
  {
   "cell_type": "code",
   "execution_count": 7,
   "metadata": {
    "execution": {
     "iopub.execute_input": "2021-01-03T19:36:15.331613Z",
     "iopub.status.busy": "2021-01-03T19:36:15.330606Z",
     "iopub.status.idle": "2021-01-03T19:36:15.356966Z",
     "shell.execute_reply": "2021-01-03T19:36:15.356128Z"
    },
    "papermill": {
     "duration": 0.078171,
     "end_time": "2021-01-03T19:36:15.357119",
     "exception": false,
     "start_time": "2021-01-03T19:36:15.278948",
     "status": "completed"
    },
    "tags": []
   },
   "outputs": [],
   "source": [
    "import janestreet\n",
    "env = janestreet.make_env()\n",
    "iter_test = env.iter_test()"
   ]
  },
  {
   "cell_type": "code",
   "execution_count": 8,
   "metadata": {
    "execution": {
     "iopub.execute_input": "2021-01-03T19:36:15.410862Z",
     "iopub.status.busy": "2021-01-03T19:36:15.410165Z",
     "iopub.status.idle": "2021-01-03T19:41:32.030007Z",
     "shell.execute_reply": "2021-01-03T19:41:32.030803Z"
    },
    "papermill": {
     "duration": 316.646003,
     "end_time": "2021-01-03T19:41:32.031129",
     "exception": false,
     "start_time": "2021-01-03T19:36:15.385126",
     "status": "completed"
    },
    "tags": []
   },
   "outputs": [
    {
     "name": "stdout",
     "output_type": "stream",
     "text": [
      "CPU times: user 19min 41s, sys: 30.9 s, total: 20min 12s\n",
      "Wall time: 5min 16s\n"
     ]
    }
   ],
   "source": [
    "%%time\n",
    "\n",
    "# # predict = np.where(model.predict(test[features]) < 0.5, 0, 1)\n",
    "for (test_df, sample_prediction_df) in iter_test:\n",
    "    predict = np.where(model.predict(test_df[features+['date']]) < 0.5, 0, 1)\n",
    "    \n",
    "    sample_prediction_df['action'] = predict\n",
    "    env.predict(sample_prediction_df)\n"
   ]
  },
  {
   "cell_type": "code",
   "execution_count": 9,
   "metadata": {
    "execution": {
     "iopub.execute_input": "2021-01-03T19:41:32.076342Z",
     "iopub.status.busy": "2021-01-03T19:41:32.075331Z",
     "iopub.status.idle": "2021-01-03T19:41:32.083019Z",
     "shell.execute_reply": "2021-01-03T19:41:32.082092Z"
    },
    "papermill": {
     "duration": 0.032749,
     "end_time": "2021-01-03T19:41:32.083148",
     "exception": false,
     "start_time": "2021-01-03T19:41:32.050399",
     "status": "completed"
    },
    "tags": []
   },
   "outputs": [
    {
     "data": {
      "text/plain": [
       "['__notebook__.ipynb', 'submission.csv']"
      ]
     },
     "execution_count": 9,
     "metadata": {},
     "output_type": "execute_result"
    }
   ],
   "source": [
    "os.listdir()"
   ]
  },
  {
   "cell_type": "code",
   "execution_count": null,
   "metadata": {
    "papermill": {
     "duration": 0.019912,
     "end_time": "2021-01-03T19:41:32.123526",
     "exception": false,
     "start_time": "2021-01-03T19:41:32.103614",
     "status": "completed"
    },
    "tags": []
   },
   "outputs": [],
   "source": []
  }
 ],
 "metadata": {
  "kernelspec": {
   "display_name": "Python 3",
   "language": "python",
   "name": "python3"
  },
  "language_info": {
   "codemirror_mode": {
    "name": "ipython",
    "version": 3
   },
   "file_extension": ".py",
   "mimetype": "text/x-python",
   "name": "python",
   "nbconvert_exporter": "python",
   "pygments_lexer": "ipython3",
   "version": "3.6.12"
  },
  "papermill": {
   "duration": 622.912244,
   "end_time": "2021-01-03T19:41:32.253260",
   "environment_variables": {},
   "exception": null,
   "input_path": "__notebook__.ipynb",
   "output_path": "__notebook__.ipynb",
   "parameters": {},
   "start_time": "2021-01-03T19:31:09.341016",
   "version": "2.1.0"
  }
 },
 "nbformat": 4,
 "nbformat_minor": 4
}
